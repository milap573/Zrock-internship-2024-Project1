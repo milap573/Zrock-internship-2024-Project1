{
  "nbformat": 4,
  "nbformat_minor": 0,
  "metadata": {
    "colab": {
      "provenance": []
    },
    "kernelspec": {
      "name": "python3",
      "display_name": "Python 3"
    },
    "language_info": {
      "name": "python"
    }
  },
  "cells": [
    {
      "cell_type": "markdown",
      "source": [
        " **Spam Detection Project: Build a binary classification model to classify any online content (including\n",
        "messages/emails/reviews) as spam or not spam.**"
      ],
      "metadata": {
        "id": "0dzVK95jvrw4"
      }
    },
    {
      "cell_type": "code",
      "source": [
        "import nltk\n",
        "# Downloading necessary NLTK resources\n",
        "nltk.download('punkt')\n",
        "nltk.download('stopwords')"
      ],
      "metadata": {
        "colab": {
          "base_uri": "https://localhost:8080/"
        },
        "id": "_UY4GHSjIKJc",
        "outputId": "3ce2366c-90a3-4134-ea5e-b1aa97e51914"
      },
      "execution_count": 3,
      "outputs": [
        {
          "output_type": "stream",
          "name": "stderr",
          "text": [
            "[nltk_data] Downloading package punkt to /root/nltk_data...\n",
            "[nltk_data]   Unzipping tokenizers/punkt.zip.\n",
            "[nltk_data] Downloading package stopwords to /root/nltk_data...\n",
            "[nltk_data]   Unzipping corpora/stopwords.zip.\n"
          ]
        },
        {
          "output_type": "execute_result",
          "data": {
            "text/plain": [
              "True"
            ]
          },
          "metadata": {},
          "execution_count": 3
        }
      ]
    },
    {
      "cell_type": "markdown",
      "source": [
        "Data Exploration and Preprocessing"
      ],
      "metadata": {
        "id": "VGKN3NV8IRy3"
      }
    },
    {
      "cell_type": "code",
      "source": [
        "# Importing necessary libraries\n",
        "import pandas as pd\n",
        "from sklearn.preprocessing import LabelEncoder\n",
        "from sklearn.model_selection import train_test_split\n",
        "from sklearn.feature_extraction.text import TfidfVectorizer\n",
        "import string\n",
        "from nltk.corpus import stopwords\n",
        "from nltk.stem import PorterStemmer\n",
        "\n",
        "# Loading the dataset\n",
        "df = pd.read_csv('/content/drive/MyDrive/spam.csv', encoding='latin-1')\n",
        "\n",
        "# Data cleaning and preprocessing\n",
        "encoder = LabelEncoder()\n",
        "df['label'] = encoder.fit_transform(df['v1'])\n",
        "\n",
        "# Text preprocessing function\n",
        "def preprocess_text(text):\n",
        "    # Converting text to lowercase\n",
        "    text = text.lower()\n",
        "    # Removing punctuation\n",
        "    text = text.translate(str.maketrans('', '', string.punctuation))\n",
        "    # Tokenization\n",
        "    tokens = nltk.word_tokenize(text)\n",
        "    # Removing stopwords\n",
        "    stopwords_list = set(stopwords.words('english'))\n",
        "    tokens = [token for token in tokens if token not in stopwords_list]\n",
        "    # Stemming\n",
        "    stemmer = PorterStemmer()\n",
        "    tokens = [stemmer.stem(token) for token in tokens]\n",
        "    # Joining tokens back into text\n",
        "    text = ' '.join(tokens)\n",
        "    return text\n",
        "\n",
        "# Applying preprocessing to the SMS text column\n",
        "df['processed_text'] = df['v2'].apply(preprocess_text)\n",
        "\n",
        "# Separating features (processed text) and labels\n",
        "X = df['processed_text']\n",
        "y = df['label']\n",
        "\n",
        "# Splitting data into training and testing sets\n",
        "X_train, X_test, y_train, y_test = train_test_split(X, y, test_size=0.2, random_state=42)"
      ],
      "metadata": {
        "id": "BjrAxyUmINma"
      },
      "execution_count": 4,
      "outputs": []
    },
    {
      "cell_type": "markdown",
      "source": [
        "Feature Engineering"
      ],
      "metadata": {
        "id": "PrJ5OtpXIX1o"
      }
    },
    {
      "cell_type": "code",
      "source": [
        "from sklearn.feature_extraction.text import TfidfVectorizer\n",
        "\n",
        "# Initializing TF-IDF vectorizer\n",
        "vectorizer = TfidfVectorizer()\n",
        "\n",
        "# Fitting vectorizer on training set and transforming training set\n",
        "X_train_tfidf = vectorizer.fit_transform(X_train)\n",
        "\n",
        "# Transforming test set\n",
        "X_test_tfidf = vectorizer.transform(X_test)"
      ],
      "metadata": {
        "id": "2CzukBZeIZsI"
      },
      "execution_count": 5,
      "outputs": []
    },
    {
      "cell_type": "markdown",
      "source": [
        "Model Selection and Training"
      ],
      "metadata": {
        "id": "Ah9HosfZIcA5"
      }
    },
    {
      "cell_type": "code",
      "source": [
        "from sklearn.naive_bayes import MultinomialNB\n",
        "from sklearn.metrics import classification_report\n",
        "\n",
        "# Initializing Multinomial Naive Bayes classifier\n",
        "model = MultinomialNB()\n",
        "\n",
        "# Training the model\n",
        "model.fit(X_train_tfidf, y_train)\n",
        "\n",
        "# Predictions on the test set\n",
        "y_pred = model.predict(X_test_tfidf)"
      ],
      "metadata": {
        "id": "630n0raYIgwe"
      },
      "execution_count": 6,
      "outputs": []
    },
    {
      "cell_type": "markdown",
      "source": [
        "Model Evaluation"
      ],
      "metadata": {
        "id": "KC553RFJIoQj"
      }
    },
    {
      "cell_type": "code",
      "source": [
        "# Evaluating model performance\n",
        "print(classification_report(y_test, y_pred))\n",
        "\n",
        "from sklearn.metrics import confusion_matrix\n",
        "import matplotlib.pyplot as plt\n",
        "import seaborn as sns\n",
        "\n",
        "# Plotting confusion matrix\n",
        "cm = confusion_matrix(y_test, y_pred)\n",
        "plt.figure(figsize=(8, 6))\n",
        "sns.heatmap(cm, annot=True, fmt='d', cmap='Blues', cbar=False,\n",
        "            xticklabels=encoder.classes_, yticklabels=encoder.classes_)\n",
        "plt.xlabel('Predicted Labels')\n",
        "plt.ylabel('True Labels')\n",
        "plt.title('Confusion Matrix')\n",
        "plt.show()"
      ],
      "metadata": {
        "colab": {
          "base_uri": "https://localhost:8080/",
          "height": 720
        },
        "id": "x3F1DexTItQX",
        "outputId": "35a95bbc-f5ff-45b9-f585-2bab57f57cc5"
      },
      "execution_count": 7,
      "outputs": [
        {
          "output_type": "stream",
          "name": "stdout",
          "text": [
            "              precision    recall  f1-score   support\n",
            "\n",
            "           0       0.96      1.00      0.98       965\n",
            "           1       1.00      0.72      0.84       150\n",
            "\n",
            "    accuracy                           0.96      1115\n",
            "   macro avg       0.98      0.86      0.91      1115\n",
            "weighted avg       0.96      0.96      0.96      1115\n",
            "\n"
          ]
        },
        {
          "output_type": "display_data",
          "data": {
            "text/plain": [
              "<Figure size 800x600 with 1 Axes>"
            ],
            "image/png": "[encoded data removed]"
          },
          "metadata": {}
        }
      ]
    },
    {
      "cell_type": "markdown",
      "source": [
        "Further Optimization (using GridSearchCV)"
      ],
      "metadata": {
        "id": "Jq68e-CkIuBt"
      }
    },
    {
      "cell_type": "code",
      "source": [
        "from sklearn.model_selection import GridSearchCV\n",
        "\n",
        "# Defining parameter grid\n",
        "param_grid = {'alpha': [0.1, 1.0, 10.0]}\n",
        "\n",
        "# Initializing GridSearchCV\n",
        "grid_search = GridSearchCV(estimator=MultinomialNB(), param_grid=param_grid, cv=5, scoring='accuracy')\n",
        "\n",
        "# Performing grid search\n",
        "grid_search.fit(X_train_tfidf, y_train)\n",
        "\n",
        "# Printing best parameters and best score\n",
        "print(\"Best Parameters:\", grid_search.best_params_)\n",
        "print(\"Best CV Score:\", grid_search.best_score_)\n",
        "\n",
        "# Getting the best model\n",
        "best_model = grid_search.best_estimator_\n",
        "\n",
        "# Evaluating the best model\n",
        "y_pred_best = best_model.predict(X_test_tfidf)\n",
        "print(classification_report(y_test, y_pred_best))"
      ],
      "metadata": {
        "colab": {
          "base_uri": "https://localhost:8080/"
        },
        "id": "TFDKT6oXI4eW",
        "outputId": "68394f3d-4568-42a0-a904-81a318ffa883"
      },
      "execution_count": 8,
      "outputs": [
        {
          "output_type": "stream",
          "name": "stdout",
          "text": [
            "Best Parameters: {'alpha': 0.1}\n",
            "Best CV Score: 0.9766637475905041\n",
            "              precision    recall  f1-score   support\n",
            "\n",
            "           0       0.98      1.00      0.99       965\n",
            "           1       1.00      0.87      0.93       150\n",
            "\n",
            "    accuracy                           0.98      1115\n",
            "   macro avg       0.99      0.94      0.96      1115\n",
            "weighted avg       0.98      0.98      0.98      1115\n",
            "\n"
          ]
        }
      ]
    },
    {
      "cell_type": "markdown",
      "source": [
        "Cross-Validation"
      ],
      "metadata": {
        "id": "hyDb4lBkI5SN"
      }
    },
    {
      "cell_type": "code",
      "source": [
        "from sklearn.model_selection import cross_val_score\n",
        "\n",
        "# Performing cross-validation\n",
        "scores = cross_val_score(estimator=MultinomialNB(alpha=1.0), X=X_train_tfidf, y=y_train, cv=5, scoring='accuracy')\n",
        "\n",
        "# Printing cross-validation scores\n",
        "print(\"Cross-Validation Scores:\", scores)\n",
        "print(\"Mean CV Accuracy:\", scores.mean())"
      ],
      "metadata": {
        "colab": {
          "base_uri": "https://localhost:8080/"
        },
        "id": "yUPau41LI8wk",
        "outputId": "32a667eb-d5e4-460b-ff31-3a9c5c367714"
      },
      "execution_count": 9,
      "outputs": [
        {
          "output_type": "stream",
          "name": "stdout",
          "text": [
            "Cross-Validation Scores: [0.96076233 0.96188341 0.95398429 0.95735129 0.95510662]\n",
            "Mean CV Accuracy: 0.9578175879371693\n"
          ]
        }
      ]
    },
    {
      "cell_type": "markdown",
      "source": [
        "Saving the model"
      ],
      "metadata": {
        "id": "pkq8z8U9JDR-"
      }
    },
    {
      "cell_type": "code",
      "source": [
        "import joblib\n",
        "\n",
        "# Saving the model to disk\n",
        "filename = 'spam_detection_model.pkl'\n",
        "joblib.dump(model, filename)"
      ],
      "metadata": {
        "colab": {
          "base_uri": "https://localhost:8080/"
        },
        "id": "q1RMzE2rJL6g",
        "outputId": "d1a0bb4c-b0af-42de-f9bd-d822ada4ed21"
      },
      "execution_count": 10,
      "outputs": [
        {
          "output_type": "execute_result",
          "data": {
            "text/plain": [
              "['spam_detection_model.pkl']"
            ]
          },
          "metadata": {},
          "execution_count": 10
        }
      ]
    },
    {
      "cell_type": "markdown",
      "source": [
        "Saving the TF-IDF Vectorizer"
      ],
      "metadata": {
        "id": "mErAKZElJMNH"
      }
    },
    {
      "cell_type": "code",
      "source": [
        "# Saving the TF-IDF vectorizer separately\n",
        "joblib.dump(vectorizer, 'tfidf_vectorizer.pkl')"
      ],
      "metadata": {
        "colab": {
          "base_uri": "https://localhost:8080/"
        },
        "id": "9nEcux8iJPcL",
        "outputId": "956ff057-a197-4bc3-8e03-15543ad1f243"
      },
      "execution_count": 11,
      "outputs": [
        {
          "output_type": "execute_result",
          "data": {
            "text/plain": [
              "['tfidf_vectorizer.pkl']"
            ]
          },
          "metadata": {},
          "execution_count": 11
        }
      ]
    },
    {
      "cell_type": "markdown",
      "source": [
        "Making predictions using the saved model"
      ],
      "metadata": {
        "id": "r4XeFKps6Z8Q"
      }
    },
    {
      "cell_type": "code",
      "source": [
        "import joblib\n",
        "from sklearn.feature_extraction.text import TfidfVectorizer\n",
        "\n",
        "# Load the model\n",
        "model = joblib.load('spam_detection_model.pkl')\n",
        "\n",
        "# Load the TF-IDF vectorizer\n",
        "vectorizer = joblib.load('tfidf_vectorizer.pkl')"
      ],
      "metadata": {
        "id": "w9G8VeCFKxpB"
      },
      "execution_count": 12,
      "outputs": []
    },
    {
      "cell_type": "code",
      "source": [
        "# Example new data\n",
        "new_data = [\n",
        "    \"Congratulations! You've won a free cruise! Call now to claim your prize.\",\n",
        "    \"Hey, what's up? Are we still meeting at 5?\",\n",
        "    \"URGENT: Your account has been compromised. Please click the link to reset your password.\"\n",
        "]\n",
        "\n",
        "# Preprocess the new data using the same preprocessing function\n",
        "def preprocess_text(text):\n",
        "    # Converting text to lowercase\n",
        "    text = text.lower()\n",
        "    # Removing punctuation\n",
        "    text = text.translate(str.maketrans('', '', string.punctuation))\n",
        "    # Tokenization\n",
        "    tokens = nltk.word_tokenize(text)\n",
        "    # Define stopwords list here\n",
        "    stopwords_list = set(stopwords.words('english'))\n",
        "    # Removing stopwords\n",
        "    tokens = [token for token in tokens if token not in stopwords_list]\n",
        "    # Stemming\n",
        "    stemmer = PorterStemmer()\n",
        "    tokens = [stemmer.stem(token) for token in tokens]\n",
        "    # Joining tokens back into text\n",
        "    text = ' '.join(tokens)\n",
        "    return text\n",
        "\n",
        "# Apply preprocessing to new data\n",
        "preprocessed_new_data = [preprocess_text(text) for text in new_data]\n",
        "\n",
        "# Transform the preprocessed data using the TF-IDF vectorizer\n",
        "X_new_tfidf = vectorizer.transform(preprocessed_new_data)"
      ],
      "metadata": {
        "id": "RDrTbL4F4sdB"
      },
      "execution_count": 14,
      "outputs": []
    },
    {
      "cell_type": "code",
      "source": [
        "# Predict using the loaded model\n",
        "y_new_pred = model.predict(X_new_tfidf)\n",
        "\n",
        "# Map predictions back to original labels\n",
        "predicted_labels = encoder.inverse_transform(y_new_pred)\n",
        "\n",
        "# Print the predictions\n",
        "for text, predicted_label in zip(new_data, predicted_labels):\n",
        "    print(f'Text: {text} --> Predicted Label: {predicted_label}')"
      ],
      "metadata": {
        "colab": {
          "base_uri": "https://localhost:8080/"
        },
        "id": "IA2IuCId5Ax_",
        "outputId": "f7fd89a8-2e07-49ec-9abd-5857652f657e"
      },
      "execution_count": 15,
      "outputs": [
        {
          "output_type": "stream",
          "name": "stdout",
          "text": [
            "Text: Congratulations! You've won a free cruise! Call now to claim your prize. --> Predicted Label: spam\n",
            "Text: Hey, what's up? Are we still meeting at 5? --> Predicted Label: ham\n",
            "Text: URGENT: Your account has been compromised. Please click the link to reset your password. --> Predicted Label: spam\n"
          ]
        }
      ]
    }
  ]
}